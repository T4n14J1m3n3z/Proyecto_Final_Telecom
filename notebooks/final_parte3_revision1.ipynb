{
 "cells": [
  {
   "cell_type": "markdown",
   "metadata": {},
   "source": [
    "# <center>**PROYECTO FINAL INTERCONNECT (3er parte)**</center>\n",
    "\n",
    "## Informe de solución\n"
   ]
  },
  {
   "cell_type": "markdown",
   "metadata": {},
   "source": [
    "### ¿Qué pasos del plan se realizaron y qué pasos se omitieron (explica por qué)?\n",
    "- En este proyecto, se siguieron todos los pasos del plan de trabajo porque cada uno era crucial para lograr el objetivo final: predecir la tasa de cancelación de clientes para la empresa Interconnect. Comenzamos definiendo claramente el objetivo y limpiando los datos, lo que incluyó combinar datasets, estandarizar nombres de columnas y manejar valores faltantes. Esto nos dio una base sólida para trabajar.\n",
    "\n",
    "Luego, realizamos un análisis exploratorio de datos (EDA) para entender mejor las características de los datos. Visualizamos la distribución de variables clave como 'monthly_charges' y 'total_charges', y analizamos la distribución del 'churn'. Esto nos ayudó a tener una mejor comprensión de los datos antes de pasar al preprocesamiento.\n",
    "\n",
    "El preprocesamiento de datos fue un paso esencial. Convertimos las variables categóricas en dummies para que pudieran ser usadas en los modelos y aplicamos SMOTE para manejar el desequilibrio de clases en la variable objetivo 'churn'. Además, utilizamos técnicas como SelectKBest y RFE para seleccionar las características más relevantes, lo que mejoró la eficiencia de nuestros modelos.\n",
    "\n",
    "Para la selección y entrenamiento de modelos, dividimos los datos en conjuntos de entrenamiento y prueba, y probamos varios algoritmos de clasificación, incluyendo DummyClassifier, LogisticRegression,  RandomForestClassifier, knn, CATboosclassifier. Cada modelo fue evaluado exhaustivamente usando métricas como AUC ROC, matriz de confusión, accuracy, precision y F1-score.\n",
    "\n",
    "Finalmente, optimizamos los modelos para mejorar su rendimiento como parte del proceso iterativo de evaluación y selección del mejor modelo.\n",
    "Cada fase contribuyó significativamente al éxito del proyecto y nos permitió cumplir con nuestro objetivo de manera exhaustiva, estructurada y rigurosa. \n",
    "\n",
    "### ¿Qué dificultades encontraste y cómo lograste resolverlas?\n",
    "Al principio, en la fase de preparación de datos, después de convertir las columnas de fecha de inicio y de finalización de contrato, tuve que tomar decisiones importantes sobre estas columnas. La primera tarea fue crear nuestra característica objetivo, 'churn', basada en la columna de finalización de contrato. Luego, enfrenté la duda de qué hacer con las columnas de inicio y finalización. Tenía dos opciones:\n",
    "\n",
    "Eliminar la columna de finalización de contrato, ya que había cumplido su objetivo.\n",
    "Obtener información adicional de ambas columnas para optimizar el modelo.\n",
    "Decidí seguir la segunda opción y crear una tercera columna que calculase el tiempo que cada cliente había permanecido en la compañía. Para los clientes que aún no habían dejado el servicio, resté el tiempo hasta el día de hoy.\n",
    "\n",
    "Todo parecía normal hasta que entrené el modelo y, para mi sorpresa, los resultados de las métricas eran casi perfectos. Por experiencia, sabía que esto no era realista, así que comencé a revisar todos los datos meticulosamente. Probé cambiar el sobremuestreo por un submuestreo, normalicé columnas numéricas y revisé los datos cuidadosamente, pero no pude encontrar el error. Sabía que algo no estaba bien. La vida no podía ser tan hermosa.\n",
    "\n",
    "Investigué cómo realizar curvas de aprendizaje y apliqué la verificación cruzada, pero el error persistía. Finalmente, encontré un foro que recomendaba revisar las correlaciones de las características con el objetivo. No lo apliqué de inmediato, pero me hizo recordar lo que había hecho con las fechas. Me di cuenta de que la columna que calculaba la duración del cliente en la compañía estaba alimentando información a mi objetivo. Había una alta correlación entre esta columna y 'churn'. Al entrenar el modelo así, cualquier cliente nuevo estaría destinado a abandonar el servicio a menos que tuviera una máquina del tiempo y se registrara años atrás.\n",
    "\n",
    "Esta columna no era lógica y estaba sesgando mi modelo para adivinar todas las tasas de abandono. Al eliminarla y volver a correr el programa, obtuve valores coherentes en mis modelos. A partir de ahí, comencé a modificar diferentes hiperparámetros hasta obtener un resultado óptimo.\n",
    "\n",
    "Tras esta batalla con las columnas y la selección de hiperparámetros, logré mi objetivo y el del proyecto.\n",
    "\n",
    "### ¿Cuáles fueron algunos de los pasos clave para resolver la tarea?\n",
    "\n",
    "Algunos de los pasos clave para resolver la tarea fueron, en primer lugar, la preparación de los datos. Esto incluyó limpiar y transformar los datos, y crear la variable objetivo 'churn', lo cual fue esencial para asegurar la calidad del modelo. Luego, el análisis exploratorio de datos (EDA) nos permitió entender la distribución y características de los datos, identificando patrones y problemas potenciales.\n",
    "\n",
    "La selección de características también fue fundamental. Elegir las variables más relevantes y eliminar aquellas que causaban problemas, como la columna de duración del cliente, realmente mejoró la precisión del modelo. Otro paso crucial fue la selección y entrenamiento de los algoritmos de clasificación, donde probamos y comparamos diferentes algoritmos hasta encontrar el más adecuado.\n",
    "\n",
    "Finalmente, evaluar el rendimiento del modelo con métricas apropiadas y ajustar los hiperparámetros fue clave para optimizar el modelo y obtener resultados fiables. Todo esto fue un proceso iterativo y detallado, pero valió la pena al final.\n",
    "\n",
    "### ¿Cuál es tu modelo final y qué nivel de calidad tiene?\n",
    "\n",
    "El modelo final que elegí es el CatBoostClassifier. En la fase de prueba y validación, este modelo demostró un rendimiento sobresaliente. A continuación, se muestran las métricas clave del modelo:\n",
    "\n",
    "| Modelo         | DF utilizado | Accuracy | Precision | F1-Score | AUC-ROC Entrenamiento | AUC-ROC Prueba | AUC-ROC Validacion Cruzada|\n",
    "|:--------------:|:------------:|:--------:|:---------:|:--------:|:---------------------:|:--------------:|:-------------------------:|\n",
    "|CatBoostClassifier|df_union    |0.8448    |0.8397     |0.8492    |0.9810                 |0.9239          |0.9071                     |\n",
    "\n",
    "El objetivo principal de este proyecto era alcanzar una métrica AUC-ROC de al menos 0.88. Después de múltiples pruebas y ajustes exhaustivos de los hiperparámetros, logré obtener una métrica AUC-ROC de 0.92 en la fase de prueba y 0.90 en la validación cruzada. Estoy orgullosa de estos resultados, ya que demuestran la solidez y fiabilidad de mi modelo.\n",
    "\n",
    "En cuanto a la relación de los resultados con el objetivo del proyecto. El modelo CatBoostClassifier beneficia enormemente al proporcionar predicciones precisas sobre qué clientes tienen más probabilidades de abandonar el servicio. Con una alta métrica AUC-ROC de 0.92 en pruebas y 0.90 en validación cruzada, el modelo permite a la empresa identificar de manera efectiva a los clientes en riesgo y tomar acciones preventivas. Esto no solo mejora la retención de clientes sino que también optimiza recursos y estrategias de marketing, resultando en un aumento de ingresos y una mejor satisfacción del cliente.\n",
    "\n"
   ]
  }
 ],
 "metadata": {
  "language_info": {
   "name": "python"
  }
 },
 "nbformat": 4,
 "nbformat_minor": 2
}
